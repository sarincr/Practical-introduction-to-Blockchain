{
  "nbformat": 4,
  "nbformat_minor": 0,
  "metadata": {
    "colab": {
      "name": "01.Hash.ipynb",
      "provenance": [],
      "collapsed_sections": []
    },
    "kernelspec": {
      "name": "python3",
      "display_name": "Python 3"
    },
    "language_info": {
      "name": "python"
    }
  },
  "cells": [
    {
      "cell_type": "code",
      "execution_count": 1,
      "metadata": {
        "colab": {
          "base_uri": "https://localhost:8080/"
        },
        "id": "gsFltC7gaM19",
        "outputId": "fc36c264-c67e-4c00-fd8b-99cfb5ea9f90"
      },
      "outputs": [
        {
          "output_type": "stream",
          "name": "stdout",
          "text": [
            "The string hash value is : 8944346070610995844\n"
          ]
        }
      ],
      "source": [
        "str_val = 'Hello Sahrdaya'\n",
        " \n",
        "print(\"The string hash value is : \" + str(hash(str_val)))"
      ]
    },
    {
      "cell_type": "code",
      "source": [
        "!pip install pycrypto\n",
        "!pip install pycryptodome"
      ],
      "metadata": {
        "colab": {
          "base_uri": "https://localhost:8080/"
        },
        "id": "HZxlItd-aVRi",
        "outputId": "2e75a82d-55cd-47ea-8a87-fb40f5a8735c"
      },
      "execution_count": 2,
      "outputs": [
        {
          "output_type": "stream",
          "name": "stdout",
          "text": [
            "Looking in indexes: https://pypi.org/simple, https://us-python.pkg.dev/colab-wheels/public/simple/\n",
            "Requirement already satisfied: pycrypto in /usr/local/lib/python3.7/dist-packages (2.6.1)\n",
            "Looking in indexes: https://pypi.org/simple, https://us-python.pkg.dev/colab-wheels/public/simple/\n",
            "Requirement already satisfied: pycryptodome in /usr/local/lib/python3.7/dist-packages (3.15.0)\n"
          ]
        }
      ]
    },
    {
      "cell_type": "code",
      "source": [
        "from Crypto.Hash import SHA256"
      ],
      "metadata": {
        "id": "Dxwl9-86aq0G"
      },
      "execution_count": 3,
      "outputs": []
    },
    {
      "cell_type": "code",
      "source": [
        "hash_object = SHA256.new(data=b'Hello Sahrdaya')"
      ],
      "metadata": {
        "id": "V0BUOaN_a4oZ"
      },
      "execution_count": 4,
      "outputs": []
    },
    {
      "cell_type": "code",
      "source": [
        "hash_object"
      ],
      "metadata": {
        "colab": {
          "base_uri": "https://localhost:8080/"
        },
        "id": "gfCE2V7SbQjj",
        "outputId": "9d0648d8-e34c-4635-aba5-7d332e81fd63"
      },
      "execution_count": 5,
      "outputs": [
        {
          "output_type": "execute_result",
          "data": {
            "text/plain": [
              "<Crypto.Hash.SHA256.SHA256Hash at 0x7f2cb798ed50>"
            ]
          },
          "metadata": {},
          "execution_count": 5
        }
      ]
    },
    {
      "cell_type": "code",
      "source": [
        "from hashlib import sha256\n",
        "\n",
        "hash_func = lambda x: sha256(x.encode('utf-8')).hexdigest()"
      ],
      "metadata": {
        "id": "4XeRF1iPbSG6"
      },
      "execution_count": 6,
      "outputs": []
    },
    {
      "cell_type": "code",
      "source": [
        "class Block:\n",
        "  def __init__(self, data, prev):\n",
        "    self.data = data\n",
        "    self.prev = prev\n",
        "    if prev is not None:\n",
        "      self.hashed_prev_data = hash_func(prev.data)"
      ],
      "metadata": {
        "id": "dw3FBQ2tbc0y"
      },
      "execution_count": 7,
      "outputs": []
    },
    {
      "cell_type": "code",
      "source": [
        "class Blockchain:\n",
        "  def __init__(self):\n",
        "    self.head = Block('genesis', None)\n",
        "  def add_block(self, data):\n",
        "        self.head = Block(data, self.head)"
      ],
      "metadata": {
        "id": "k23PQXIzbfMU"
      },
      "execution_count": 8,
      "outputs": []
    },
    {
      "cell_type": "code",
      "source": [
        "def verify_chain(chain):\n",
        "  curr = chain.head\n",
        "  print(curr.data)\n",
        "  while curr.prev is not None:\n",
        "    if curr.hashed_prev_data != hash_func(curr.prev.data):\n",
        "      print(f'*{curr.prev.data}')\n",
        "    else :\n",
        "      print(curr.prev.data)\n",
        "      curr = curr.prev\n"
      ],
      "metadata": {
        "id": "ub5CsV5pblyB"
      },
      "execution_count": 9,
      "outputs": []
    },
    {
      "cell_type": "code",
      "source": [
        "chain = Blockchain()"
      ],
      "metadata": {
        "id": "0JaMR0p9boE0"
      },
      "execution_count": 10,
      "outputs": []
    },
    {
      "cell_type": "code",
      "source": [
        "chain.add_block('Hello')"
      ],
      "metadata": {
        "id": "HZe09Gipbp1y"
      },
      "execution_count": 11,
      "outputs": []
    },
    {
      "cell_type": "code",
      "source": [
        "chain"
      ],
      "metadata": {
        "colab": {
          "base_uri": "https://localhost:8080/"
        },
        "id": "-rFIHRp3bsz2",
        "outputId": "71cd9092-a197-4cc4-8195-4b4d0bd05419"
      },
      "execution_count": 12,
      "outputs": [
        {
          "output_type": "execute_result",
          "data": {
            "text/plain": [
              "<__main__.Blockchain at 0x7f2cbb216250>"
            ]
          },
          "metadata": {},
          "execution_count": 12
        }
      ]
    },
    {
      "cell_type": "code",
      "source": [
        "chain.add_block('Hello Sahrdaya1')"
      ],
      "metadata": {
        "id": "xQ6qzmwzbvbb"
      },
      "execution_count": 13,
      "outputs": []
    },
    {
      "cell_type": "code",
      "source": [
        "verify_chain(chain)"
      ],
      "metadata": {
        "colab": {
          "base_uri": "https://localhost:8080/"
        },
        "id": "axtCBIJ0byJX",
        "outputId": "4b0b84ae-1a4b-468e-a871-ff08ded22c4e"
      },
      "execution_count": 14,
      "outputs": [
        {
          "output_type": "stream",
          "name": "stdout",
          "text": [
            "Hello Sahrdaya1\n",
            "Hello\n",
            "genesis\n"
          ]
        }
      ]
    },
    {
      "cell_type": "code",
      "source": [
        "chain.add_block('Sahrdayas2')"
      ],
      "metadata": {
        "id": "6HYEbJoabzG4"
      },
      "execution_count": 15,
      "outputs": []
    },
    {
      "cell_type": "code",
      "source": [
        "verify_chain(chain)"
      ],
      "metadata": {
        "colab": {
          "base_uri": "https://localhost:8080/"
        },
        "id": "Ys-aReawcMip",
        "outputId": "6f1c6e04-9140-413d-ce0a-e74f53451bb1"
      },
      "execution_count": 16,
      "outputs": [
        {
          "output_type": "stream",
          "name": "stdout",
          "text": [
            "Sahrdayas2\n",
            "Hello Sahrdaya1\n",
            "Hello\n",
            "genesis\n"
          ]
        }
      ]
    }
  ]
}